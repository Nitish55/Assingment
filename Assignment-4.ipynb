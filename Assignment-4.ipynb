{
 "cells": [
  {
   "cell_type": "markdown",
   "id": "0d81d0b2",
   "metadata": {},
   "source": [
    "###### 1.1 Write a Python Program(with class concepts) to find the area of the triangle using the below formula.\n",
    "###### area = (s*(s-a)*(s-b)*(s-c)) ** 0.5\n",
    "###### Function to take the length of the sides of triangle from user should be defined in the parent class and function to calculate the area should  be defined in subclass."
   ]
  },
  {
   "cell_type": "code",
   "execution_count": 2,
   "id": "2bf298bd",
   "metadata": {},
   "outputs": [],
   "source": [
    "class area_triangle:\n",
    "    def __init__(self,a,b,c):\n",
    "        self.a=a\n",
    "        self.b=b\n",
    "        self.c=c\n",
    "        \n",
    "class calculation(area_triangle):\n",
    "    def __init__(self,*args):\n",
    "        super().__init__(*args)\n",
    "        \n",
    "    def calculate_area(self):\n",
    "        s=(self.a+self.b+self.c)/2\n",
    "        area=(s*(s-self.a)*(s-self.b)*(s-self.c))*0.5\n",
    "        return round(area,2)\n",
    "    \n",
    "  "
   ]
  },
  {
   "cell_type": "code",
   "execution_count": 3,
   "id": "c6b8e082",
   "metadata": {},
   "outputs": [
    {
     "data": {
      "text/plain": [
       "1230.47"
      ]
     },
     "execution_count": 3,
     "metadata": {},
     "output_type": "execute_result"
    }
   ],
   "source": [
    "ca=calculation(10,15,10)\n",
    "ca.calculate_area() "
   ]
  },
  {
   "cell_type": "markdown",
   "id": "8e57e15b",
   "metadata": {},
   "source": [
    "##### 1.2 Write a function filter_long_words() that takes a list of words and an integer n and returns the list of words that are longer than n."
   ]
  },
  {
   "cell_type": "code",
   "execution_count": 9,
   "id": "a58bf9a7",
   "metadata": {},
   "outputs": [
    {
     "name": "stdout",
     "output_type": "stream",
     "text": [
      "Enter num:-How many elements you want in your list:- 5\n",
      "Enter num:- return list elements which are longer in length than entered number:-5\n",
      "Enter list of words to form list:- Johncena\n",
      "['Johncena']\n",
      "Enter list of words to form list:- TheRock\n",
      "['Johncena', 'TheRock']\n",
      "Enter list of words to form list:- Undertaker\n",
      "['Johncena', 'TheRock', 'Undertaker']\n",
      "Enter list of words to form list:- Khali\n",
      "['Johncena', 'TheRock', 'Undertaker', 'Khali']\n",
      "Enter list of words to form list:- kane\n",
      "['Johncena', 'TheRock', 'Undertaker', 'Khali', 'kane']\n",
      "--------------------------------------------------\n",
      "\n",
      "The final lst of words that are longer than n are:- ['Johncena', 'TheRock', 'Undertaker']\n"
     ]
    }
   ],
   "source": [
    "def filter_long_words():\n",
    "    lng=int(input(\"Enter num:-How many elements you want in your list:- \"))\n",
    "    n=int(input(\"Enter num:- return list elements which are longer in length than entered number:-\"))\n",
    "    l=[]\n",
    "    fnl_lst=[]\n",
    "    cnt=0\n",
    "    while lng>cnt:\n",
    "        lw=input(\"Enter list of words to form list:- \")\n",
    "        l.append(lw)\n",
    "        cnt+=1\n",
    "        print(l)\n",
    "    for i in l:\n",
    "        if len(i)>n:\n",
    "            fnl_lst.append(i)\n",
    "    print(\"--------------------------------------------------\\n\")\n",
    "    print(\"The final lst of words that are longer than n are:-\",fnl_lst)\n",
    "    \n",
    "filter_long_words()"
   ]
  },
  {
   "cell_type": "markdown",
   "id": "b62624fd",
   "metadata": {},
   "source": [
    "##### 2.1 Write a Python program using function concept that maps list of words into a list of integers representing the lengths of the corresponding words.\n",
    "##### Hint: If a list [ ab,cde,erty] is passed on to the python function output should come as [2,3,4]\n",
    "##### Here 2,3 and 4 are the lengths of the words in the list."
   ]
  },
  {
   "cell_type": "code",
   "execution_count": 10,
   "id": "cc619d47",
   "metadata": {},
   "outputs": [
    {
     "name": "stdout",
     "output_type": "stream",
     "text": [
      "Enter num:-How many elements you want in your list:- 5\n",
      "Enter list of words to form list:- Johncena\n",
      "['Johncena']\n",
      "Enter list of words to form list:- Undertaker\n",
      "['Johncena', 'Undertaker']\n",
      "Enter list of words to form list:- Kane\n",
      "['Johncena', 'Undertaker', 'Kane']\n",
      "Enter list of words to form list:- TheRock\n",
      "['Johncena', 'Undertaker', 'Kane', 'TheRock']\n",
      "Enter list of words to form list:- Khali\n",
      "['Johncena', 'Undertaker', 'Kane', 'TheRock', 'Khali']\n",
      "--------------------------------------------------\n",
      "\n",
      "Length of the corresponding words:-  [8, 10, 4, 7, 5]\n"
     ]
    }
   ],
   "source": [
    "def count_words():\n",
    "    lng=int(input(\"Enter num:-How many elements you want in your list:- \"))\n",
    "    l=[]\n",
    "    cnt=0\n",
    "    lst=[]\n",
    "    while lng>cnt:\n",
    "        lw=input(\"Enter list of words to form list:- \")\n",
    "        l.append(lw)\n",
    "        cnt+=1\n",
    "        print(l)\n",
    "    for i in l:\n",
    "        lst.append(len(i))\n",
    "    print(\"--------------------------------------------------\\n\")\n",
    "    print(\"Length of the corresponding words:- \",lst)\n",
    "        \n",
    "count_words()        "
   ]
  },
  {
   "cell_type": "markdown",
   "id": "ae02f765",
   "metadata": {},
   "source": [
    "##### 2.2 Write a Python function which takes a character (i.e. a string of length 1) and returns True if it is a vowel, False otherwise."
   ]
  },
  {
   "cell_type": "code",
   "execution_count": 20,
   "id": "16422833",
   "metadata": {},
   "outputs": [
    {
     "name": "stdout",
     "output_type": "stream",
     "text": [
      "Enter a string of l:-qw\n",
      "Re-enter string of l:-we\n",
      "Re-enter string of l:-er\n",
      "Re-enter string of l:-p\n",
      "False\n"
     ]
    }
   ],
   "source": [
    "stg=input(\"Enter a string of l:-\")\n",
    "while len(stg)!=1:\n",
    "    stg=input(\"Re-enter string of l:-\")\n",
    "    continue\n",
    "        \n",
    "if len(stg)==1 and stg in \"aeiou\":\n",
    "    print(\"True\")\n",
    "else:\n",
    "    print(\"False\")\n",
    "        "
   ]
  },
  {
   "cell_type": "code",
   "execution_count": null,
   "id": "550a0441",
   "metadata": {},
   "outputs": [],
   "source": []
  }
 ],
 "metadata": {
  "kernelspec": {
   "display_name": "Python 3",
   "language": "python",
   "name": "python3"
  },
  "language_info": {
   "codemirror_mode": {
    "name": "ipython",
    "version": 3
   },
   "file_extension": ".py",
   "mimetype": "text/x-python",
   "name": "python",
   "nbconvert_exporter": "python",
   "pygments_lexer": "ipython3",
   "version": "3.6.10"
  }
 },
 "nbformat": 4,
 "nbformat_minor": 5
}
