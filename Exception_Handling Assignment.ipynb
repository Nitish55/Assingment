{
 "cells": [
  {
   "cell_type": "markdown",
   "id": "8feeded3",
   "metadata": {},
   "source": [
    "### Q-1 Write a function to compute 5/0 and use try/except to catch the exceptions."
   ]
  },
  {
   "cell_type": "code",
   "execution_count": 20,
   "id": "63a874e8",
   "metadata": {},
   "outputs": [
    {
     "name": "stdout",
     "output_type": "stream",
     "text": [
      "Reason of Eror is:-  division by zero\n"
     ]
    }
   ],
   "source": [
    "try:\n",
    "    nm=5/0\n",
    "except Exception as e:\n",
    "    print(\"Reason of Eror is:- \",e)\n",
    "else:\n",
    "    print(nm)"
   ]
  },
  {
   "cell_type": "markdown",
   "id": "f2151c9d",
   "metadata": {},
   "source": [
    "### Q-2 Implement a Python program to generate all sentences where subject is in [\"Americans\", \"Indians\"] and verb is in \n",
    "### [\"Play\", \"watch\"] and the object is in [\"Baseball\",\"cricket\"]."
   ]
  },
  {
   "cell_type": "code",
   "execution_count": 26,
   "id": "9b26c185",
   "metadata": {},
   "outputs": [
    {
     "data": {
      "text/plain": [
       "['Americans  play Baseball',\n",
       " 'Americans  play Cricket',\n",
       " 'Americans  watch Baseball',\n",
       " 'Americans  watch Cricket',\n",
       " 'Indians play Baseball',\n",
       " 'Indians play Cricket',\n",
       " 'Indians watch Baseball',\n",
       " 'Indians watch Cricket']"
      ]
     },
     "execution_count": 26,
     "metadata": {},
     "output_type": "execute_result"
    }
   ],
   "source": [
    "subjects=[\"Americans \",\"Indians\"]\n",
    "verbs=[\"play\",\"watch\"]\n",
    "objects=[\"Baseball\",\"Cricket\"]\n",
    "\n",
    "st=\"\"\n",
    "l=[]\n",
    "for i in subjects:\n",
    "    for j in verbs:\n",
    "        for k in objects:\n",
    "            st=i+\" \"+j+\" \"+k\n",
    "            l.append(st)\n",
    "l"
   ]
  },
  {
   "cell_type": "code",
   "execution_count": null,
   "id": "add9ea64",
   "metadata": {},
   "outputs": [],
   "source": []
  }
 ],
 "metadata": {
  "kernelspec": {
   "display_name": "Python 3",
   "language": "python",
   "name": "python3"
  },
  "language_info": {
   "codemirror_mode": {
    "name": "ipython",
    "version": 3
   },
   "file_extension": ".py",
   "mimetype": "text/x-python",
   "name": "python",
   "nbconvert_exporter": "python",
   "pygments_lexer": "ipython3",
   "version": "3.6.10"
  }
 },
 "nbformat": 4,
 "nbformat_minor": 5
}
